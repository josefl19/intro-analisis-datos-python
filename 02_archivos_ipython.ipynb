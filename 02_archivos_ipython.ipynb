{
 "cells": [
  {
   "cell_type": "markdown",
   "metadata": {},
   "source": [
    "# Crear archivos desde el shell iPython"
   ]
  },
  {
   "cell_type": "markdown",
   "metadata": {},
   "source": [
    "### 1. En la consola colocar las intrucciones a ejecutar."
   ]
  },
  {
   "cell_type": "code",
   "execution_count": 1,
   "metadata": {},
   "outputs": [],
   "source": [
    "def resta(x, y):\n",
    "    return x-y"
   ]
  },
  {
   "cell_type": "markdown",
   "metadata": {},
   "source": [
    "### 2. Definier el nombre del archivo con el numero de lineas a guardar (linea inicial - linea final)\n",
    "\n",
    "#### Es posible almacenar solo cierto numero de líneas separandolas por espacio (x y)"
   ]
  },
  {
   "cell_type": "code",
   "execution_count": 2,
   "metadata": {},
   "outputs": [
    {
     "name": "stdout",
     "output_type": "stream",
     "text": [
      "The following commands were written to file `prueba.py`:\n",
      "def resta(x, y):\n",
      "    return x-y\n",
      "get_ipython().run_line_magic('save', 'prueba.py 1-2')\n"
     ]
    }
   ],
   "source": [
    "%save prueba.py 1-2"
   ]
  },
  {
   "cell_type": "markdown",
   "metadata": {},
   "source": [
    "### 3. Agregar más contenido sin sobreescribir el contenido previamente almacenado"
   ]
  },
  {
   "cell_type": "code",
   "execution_count": 9,
   "metadata": {},
   "outputs": [],
   "source": [
    "def multiplicacion(m, n):\n",
    "    return m*n"
   ]
  },
  {
   "cell_type": "code",
   "execution_count": 10,
   "metadata": {},
   "outputs": [
    {
     "name": "stdout",
     "output_type": "stream",
     "text": [
      "The following commands were written to file `prueba.py`:\n",
      "def multiplicacion(m, n):\n",
      "    return m*n\n",
      "\n",
      "get_ipython().run_line_magic('save', '-a prueba.py 4-5')\n",
      "def multiplicacion(m, n):\n",
      "    return m*n\n"
     ]
    }
   ],
   "source": [
    "%save -a prueba.py 4-5"
   ]
  }
 ],
 "metadata": {
  "interpreter": {
   "hash": "1364e16a4530eb2286764613f1f7dd8547f31581aca69b070b0e2674a6dc6daf"
  },
  "kernelspec": {
   "display_name": "Python 3.10.0 64-bit ('env': venv)",
   "language": "python",
   "name": "python3"
  },
  "language_info": {
   "codemirror_mode": {
    "name": "ipython",
    "version": 3
   },
   "file_extension": ".py",
   "mimetype": "text/x-python",
   "name": "python",
   "nbconvert_exporter": "python",
   "pygments_lexer": "ipython3",
   "version": "3.10.0"
  },
  "orig_nbformat": 4
 },
 "nbformat": 4,
 "nbformat_minor": 2
}
